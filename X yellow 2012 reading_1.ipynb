{
 "cells": [
  {
   "cell_type": "code",
   "execution_count": 1,
   "metadata": {},
   "outputs": [
    {
     "name": "stderr",
     "output_type": "stream",
     "text": [
      "UserWarning: The Dask Engine for Modin is experimental.\n"
     ]
    }
   ],
   "source": [
    "import pandas as pd\n",
    "import modin.pandas as mpd\n",
    "import random\n",
    "import numpy as np"
   ]
  },
  {
   "cell_type": "code",
   "execution_count": 2,
   "metadata": {},
   "outputs": [],
   "source": [
    "columns = [\"Trip_Pickup_DateTime\",\"Trip_Dropoff_DateTime\",\"Start_Lon\",\"Start_Lat\",\"End_Lon\",\"End_Lat\"]\n",
    "dtypes = {'Trip_Pickup_DateTime': \"object\",\n",
    "    'Trip_Dropoff_DateTime': \"object\",\n",
    "    \"Start_Lon\": \"float64\",\n",
    "    \"Start_Lat\": \"float64\",\n",
    "    \"End_Lon\": \"float64\",\n",
    "    \"End_Lat\": \"float64\"}"
   ]
  },
  {
   "cell_type": "code",
   "execution_count": 18,
   "metadata": {},
   "outputs": [],
   "source": [
    "yellow12_1 = pd.read_csv(\"data/yellow_tripdata_2012.csv\", nrows=13000000,usecols=columns,dtype=dtypes)"
   ]
  },
  {
   "cell_type": "code",
   "execution_count": 4,
   "metadata": {},
   "outputs": [
    {
     "data": {
      "text/plain": [
       "Trip_Pickup_DateTime     2012-01-31 23:59:59\n",
       "Trip_Dropoff_DateTime    2012-02-01 00:30:27\n",
       "Start_Lon                            3439.47\n",
       "Start_Lat                            3348.65\n",
       "End_Lon                              3032.63\n",
       "End_Lat                              3280.18\n",
       "dtype: object"
      ]
     },
     "execution_count": 4,
     "metadata": {},
     "output_type": "execute_result"
    }
   ],
   "source": [
    "yellow12_1.max()"
   ]
  },
  {
   "cell_type": "code",
   "execution_count": 5,
   "metadata": {},
   "outputs": [],
   "source": [
    "yellow12_2 = pd.read_csv(\"data/yellow_tripdata_2012.csv\", nrows=13000000,usecols=columns,dtype=dtypes,skiprows=range(1,13000000))"
   ]
  },
  {
   "cell_type": "code",
   "execution_count": 7,
   "metadata": {},
   "outputs": [],
   "source": [
    "yellow12_3 = pd.read_csv(\"data/yellow_tripdata_2012.csv\", nrows=13000000,usecols=columns,dtype=dtypes,skiprows=range(1,26000000))"
   ]
  },
  {
   "cell_type": "code",
   "execution_count": 8,
   "metadata": {},
   "outputs": [],
   "source": [
    "yellow12_4 = pd.read_csv(\"data/yellow_tripdata_2012.csv\", nrows=13000000,usecols=columns,dtype=dtypes,skiprows=range(1,39000000))"
   ]
  },
  {
   "cell_type": "code",
   "execution_count": 9,
   "metadata": {},
   "outputs": [],
   "source": [
    "yellow12_5 = pd.read_csv(\"data/yellow_tripdata_2012.csv\", nrows=13000000,usecols=columns,dtype=dtypes,skiprows=range(1,52000000))"
   ]
  },
  {
   "cell_type": "code",
   "execution_count": 10,
   "metadata": {},
   "outputs": [],
   "source": [
    "yellow12_6 = pd.read_csv(\"data/yellow_tripdata_2012.csv\", nrows=13000000,usecols=columns,dtype=dtypes,skiprows=range(1,65000000))"
   ]
  },
  {
   "cell_type": "code",
   "execution_count": 11,
   "metadata": {},
   "outputs": [],
   "source": [
    "yellow12_7 = pd.read_csv(\"data/yellow_tripdata_2012.csv\", nrows=13000000,usecols=columns,dtype=dtypes,skiprows=range(1,78000000))"
   ]
  },
  {
   "cell_type": "code",
   "execution_count": null,
   "metadata": {},
   "outputs": [
    {
     "name": "stderr",
     "output_type": "stream",
     "text": [
      "distributed.comm.tcp - WARNING - Closing dangling stream in <TCP  local=tcp://127.0.0.1:51906 remote=tcp://127.0.0.1:51742>\n",
      "distributed.comm.tcp - WARNING - Closing dangling stream in <TCP  local=tcp://127.0.0.1:51907 remote=tcp://127.0.0.1:51742>\n"
     ]
    }
   ],
   "source": []
  },
  {
   "cell_type": "code",
   "execution_count": 19,
   "metadata": {},
   "outputs": [
    {
     "data": {
      "text/plain": [
       "(1300000, 6)"
      ]
     },
     "execution_count": 19,
     "metadata": {},
     "output_type": "execute_result"
    }
   ],
   "source": [
    "yellow12_f = yellow12_1.sample(frac=0.1,random_state=2019)\n",
    "yellow12_f.shape"
   ]
  },
  {
   "cell_type": "code",
   "execution_count": 20,
   "metadata": {
    "scrolled": true
   },
   "outputs": [
    {
     "data": {
      "text/plain": [
       "(2600000, 6)"
      ]
     },
     "execution_count": 20,
     "metadata": {},
     "output_type": "execute_result"
    }
   ],
   "source": [
    "yellow12_f = pd.concat([yellow12_f,yellow12_2.sample(frac=0.1,random_state=2019)],ignore_index=True)\n",
    "yellow12_f.shape"
   ]
  },
  {
   "cell_type": "code",
   "execution_count": 21,
   "metadata": {},
   "outputs": [
    {
     "data": {
      "text/plain": [
       "(3900000, 6)"
      ]
     },
     "execution_count": 21,
     "metadata": {},
     "output_type": "execute_result"
    }
   ],
   "source": [
    "yellow12_f = pd.concat([yellow12_f,yellow12_3.sample(frac=0.1,random_state=2019)],ignore_index=True)\n",
    "yellow12_f.shape"
   ]
  },
  {
   "cell_type": "code",
   "execution_count": 22,
   "metadata": {},
   "outputs": [
    {
     "data": {
      "text/plain": [
       "(5200000, 6)"
      ]
     },
     "execution_count": 22,
     "metadata": {},
     "output_type": "execute_result"
    }
   ],
   "source": [
    "yellow12_f = pd.concat([yellow12_f,yellow12_4.sample(frac=0.1,random_state=2019)],ignore_index=True)\n",
    "yellow12_f.shape"
   ]
  },
  {
   "cell_type": "code",
   "execution_count": 23,
   "metadata": {},
   "outputs": [
    {
     "data": {
      "text/plain": [
       "(6500000, 6)"
      ]
     },
     "execution_count": 23,
     "metadata": {},
     "output_type": "execute_result"
    }
   ],
   "source": [
    "yellow12_f = pd.concat([yellow12_f,yellow12_5.sample(frac=0.1,random_state=2019)],ignore_index=True)\n",
    "yellow12_f.shape"
   ]
  },
  {
   "cell_type": "code",
   "execution_count": 24,
   "metadata": {},
   "outputs": [
    {
     "data": {
      "text/plain": [
       "(7800000, 6)"
      ]
     },
     "execution_count": 24,
     "metadata": {},
     "output_type": "execute_result"
    }
   ],
   "source": [
    "yellow12_f = pd.concat([yellow12_f,yellow12_6.sample(frac=0.1,random_state=2019)],ignore_index=True)\n",
    "yellow12_f.shape"
   ]
  },
  {
   "cell_type": "code",
   "execution_count": 25,
   "metadata": {},
   "outputs": [],
   "source": [
    "yellow12_f.to_csv(\"data/yellow12_1.csv\")"
   ]
  }
 ],
 "metadata": {
  "kernelspec": {
   "display_name": "Python 3",
   "language": "python",
   "name": "python3"
  },
  "language_info": {
   "codemirror_mode": {
    "name": "ipython",
    "version": 3
   },
   "file_extension": ".py",
   "mimetype": "text/x-python",
   "name": "python",
   "nbconvert_exporter": "python",
   "pygments_lexer": "ipython3",
   "version": "3.7.3"
  }
 },
 "nbformat": 4,
 "nbformat_minor": 2
}
