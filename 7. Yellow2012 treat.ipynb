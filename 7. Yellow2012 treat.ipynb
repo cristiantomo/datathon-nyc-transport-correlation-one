{
 "cells": [
  {
   "cell_type": "markdown",
   "metadata": {},
   "source": [
    "In this notebook the first treatments to the data of the uber2012 dataset will be carried out,\n",
    "\n",
    "In the end we will generate a new file with the treatment performed to share them and not have to run the entire treatment when we want to analyze the data later"
   ]
  },
  {
   "cell_type": "code",
   "execution_count": 1,
   "metadata": {},
   "outputs": [],
   "source": [
    "import pandas as pd\n",
    "import numpy as np\n",
    "import geopandas as gpd\n",
    "from shapely.geometry import Point\n",
    "from shapely.geometry.polygon import Polygon\n",
    "from geopandas import GeoDataFrame"
   ]
  },
  {
   "cell_type": "code",
   "execution_count": 4,
   "metadata": {},
   "outputs": [],
   "source": [
    "poligonos = gpd.read_file(\"./data/ny_nj_poligonos.geojson\")"
   ]
  },
  {
   "cell_type": "code",
   "execution_count": 5,
   "metadata": {},
   "outputs": [],
   "source": [
    "yellow12 = pd.read_csv(\"data/yellow12_1.csv\")"
   ]
  },
  {
   "cell_type": "code",
   "execution_count": 6,
   "metadata": {},
   "outputs": [
    {
     "name": "stdout",
     "output_type": "stream",
     "text": [
      "(7800000, 7)\n"
     ]
    },
    {
     "data": {
      "text/html": [
       "<div>\n",
       "<style scoped>\n",
       "    .dataframe tbody tr th:only-of-type {\n",
       "        vertical-align: middle;\n",
       "    }\n",
       "\n",
       "    .dataframe tbody tr th {\n",
       "        vertical-align: top;\n",
       "    }\n",
       "\n",
       "    .dataframe thead th {\n",
       "        text-align: right;\n",
       "    }\n",
       "</style>\n",
       "<table border=\"1\" class=\"dataframe\">\n",
       "  <thead>\n",
       "    <tr style=\"text-align: right;\">\n",
       "      <th></th>\n",
       "      <th>Unnamed: 0</th>\n",
       "      <th>Trip_Pickup_DateTime</th>\n",
       "      <th>Trip_Dropoff_DateTime</th>\n",
       "      <th>Start_Lon</th>\n",
       "      <th>Start_Lat</th>\n",
       "      <th>End_Lon</th>\n",
       "      <th>End_Lat</th>\n",
       "    </tr>\n",
       "  </thead>\n",
       "  <tbody>\n",
       "    <tr>\n",
       "      <th>0</th>\n",
       "      <td>0</td>\n",
       "      <td>2012-01-19 08:45:06</td>\n",
       "      <td>2012-01-19 08:50:52</td>\n",
       "      <td>-74.010669</td>\n",
       "      <td>40.715217</td>\n",
       "      <td>-74.005392</td>\n",
       "      <td>40.711362</td>\n",
       "    </tr>\n",
       "    <tr>\n",
       "      <th>1</th>\n",
       "      <td>1</td>\n",
       "      <td>2012-01-05 00:42:00</td>\n",
       "      <td>2012-01-05 00:46:00</td>\n",
       "      <td>-74.002933</td>\n",
       "      <td>40.718197</td>\n",
       "      <td>-74.013570</td>\n",
       "      <td>40.705077</td>\n",
       "    </tr>\n",
       "  </tbody>\n",
       "</table>\n",
       "</div>"
      ],
      "text/plain": [
       "   Unnamed: 0 Trip_Pickup_DateTime Trip_Dropoff_DateTime  Start_Lon  \\\n",
       "0           0  2012-01-19 08:45:06   2012-01-19 08:50:52 -74.010669   \n",
       "1           1  2012-01-05 00:42:00   2012-01-05 00:46:00 -74.002933   \n",
       "\n",
       "   Start_Lat    End_Lon    End_Lat  \n",
       "0  40.715217 -74.005392  40.711362  \n",
       "1  40.718197 -74.013570  40.705077  "
      ]
     },
     "execution_count": 6,
     "metadata": {},
     "output_type": "execute_result"
    }
   ],
   "source": [
    "print(yellow12.shape)\n",
    "yellow12.head(2)"
   ]
  },
  {
   "cell_type": "code",
   "execution_count": 7,
   "metadata": {},
   "outputs": [],
   "source": [
    "yellow12 = yellow12.drop([\"Unnamed: 0\"],axis=1)\n",
    "yellow12 = yellow12.rename(columns={\"Trip_Pickup_DateTime\":\"pickup_datetime\",\n",
    "                                    \"Trip_Dropoff_DateTime\":\"dropoff_datetime\",\n",
    "                                    \"Start_Lon\":\"pickup_longitude\",\n",
    "                                    \"Start_Lat\":\"pickup_latitude\",\n",
    "                                    \"End_Lon\":\"dropoff_longitude\",\n",
    "                                    \"End_Lat\":\"dropoff_latitude\"})"
   ]
  },
  {
   "cell_type": "code",
   "execution_count": 8,
   "metadata": {},
   "outputs": [],
   "source": [
    "# Geometry Green pickup coordenates\n",
    "geometry_yellow12_pick = [Point(xy) for xy in zip(yellow12.pickup_longitude, yellow12.pickup_latitude)]\n",
    "crs = {'init': 'epsg:4326'}\n",
    "geo_yellow12 = GeoDataFrame(yellow12, crs=crs, geometry=geometry_yellow12_pick)"
   ]
  },
  {
   "cell_type": "code",
   "execution_count": 9,
   "metadata": {},
   "outputs": [],
   "source": [
    "yellow12_nta = gpd.sjoin(geo_yellow12, poligonos[[\"boro_name\",\"ntacode\",\"ntaname\",\"geometry\"]], how=\"left\", op='intersects')"
   ]
  },
  {
   "cell_type": "code",
   "execution_count": 11,
   "metadata": {},
   "outputs": [],
   "source": [
    "yellow12_nta = yellow12_nta.rename(columns={\"boro_name\":\"pickup_borough\",\"ntacode\":\"pickup_ntacode\",\"ntaname\":\"pickup_ntaname\",\"geometry\":\"p_geometry\"})\n",
    "yellow12_nta = yellow12_nta.loc[~yellow12_nta.index.duplicated(keep='first')]\n",
    "yellow12_nta = yellow12_nta.drop([\"index_right\"],axis=1)"
   ]
  },
  {
   "cell_type": "code",
   "execution_count": 12,
   "metadata": {},
   "outputs": [
    {
     "name": "stdout",
     "output_type": "stream",
     "text": [
      "(7800000, 10)\n"
     ]
    },
    {
     "data": {
      "text/html": [
       "<div>\n",
       "<style scoped>\n",
       "    .dataframe tbody tr th:only-of-type {\n",
       "        vertical-align: middle;\n",
       "    }\n",
       "\n",
       "    .dataframe tbody tr th {\n",
       "        vertical-align: top;\n",
       "    }\n",
       "\n",
       "    .dataframe thead th {\n",
       "        text-align: right;\n",
       "    }\n",
       "</style>\n",
       "<table border=\"1\" class=\"dataframe\">\n",
       "  <thead>\n",
       "    <tr style=\"text-align: right;\">\n",
       "      <th></th>\n",
       "      <th>pickup_datetime</th>\n",
       "      <th>dropoff_datetime</th>\n",
       "      <th>pickup_longitude</th>\n",
       "      <th>pickup_latitude</th>\n",
       "      <th>dropoff_longitude</th>\n",
       "      <th>dropoff_latitude</th>\n",
       "      <th>p_geometry</th>\n",
       "      <th>pickup_borough</th>\n",
       "      <th>pickup_ntacode</th>\n",
       "      <th>pickup_ntaname</th>\n",
       "    </tr>\n",
       "  </thead>\n",
       "  <tbody>\n",
       "    <tr>\n",
       "      <th>0</th>\n",
       "      <td>2012-01-19 08:45:06</td>\n",
       "      <td>2012-01-19 08:50:52</td>\n",
       "      <td>-74.010669</td>\n",
       "      <td>40.715217</td>\n",
       "      <td>-74.005392</td>\n",
       "      <td>40.711362</td>\n",
       "      <td>POINT (-74.01067 40.71522)</td>\n",
       "      <td>Manhattan</td>\n",
       "      <td>MN24</td>\n",
       "      <td>SoHo-TriBeCa-Civic Center-Little Italy</td>\n",
       "    </tr>\n",
       "    <tr>\n",
       "      <th>1</th>\n",
       "      <td>2012-01-05 00:42:00</td>\n",
       "      <td>2012-01-05 00:46:00</td>\n",
       "      <td>-74.002933</td>\n",
       "      <td>40.718197</td>\n",
       "      <td>-74.013570</td>\n",
       "      <td>40.705077</td>\n",
       "      <td>POINT (-74.00293 40.71820)</td>\n",
       "      <td>Manhattan</td>\n",
       "      <td>MN24</td>\n",
       "      <td>SoHo-TriBeCa-Civic Center-Little Italy</td>\n",
       "    </tr>\n",
       "    <tr>\n",
       "      <th>2</th>\n",
       "      <td>2012-01-08 12:12:00</td>\n",
       "      <td>2012-01-08 12:15:00</td>\n",
       "      <td>-73.961967</td>\n",
       "      <td>40.773578</td>\n",
       "      <td>-73.954072</td>\n",
       "      <td>40.778792</td>\n",
       "      <td>POINT (-73.96197 40.77358)</td>\n",
       "      <td>Manhattan</td>\n",
       "      <td>MN40</td>\n",
       "      <td>Upper East Side-Carnegie Hill</td>\n",
       "    </tr>\n",
       "    <tr>\n",
       "      <th>3</th>\n",
       "      <td>2012-01-04 21:19:13</td>\n",
       "      <td>2012-01-04 21:28:51</td>\n",
       "      <td>-73.987095</td>\n",
       "      <td>40.720450</td>\n",
       "      <td>-73.985948</td>\n",
       "      <td>40.743825</td>\n",
       "      <td>POINT (-73.98709 40.72045)</td>\n",
       "      <td>Manhattan</td>\n",
       "      <td>MN27</td>\n",
       "      <td>Chinatown</td>\n",
       "    </tr>\n",
       "    <tr>\n",
       "      <th>4</th>\n",
       "      <td>2012-01-16 15:20:48</td>\n",
       "      <td>2012-01-16 15:56:26</td>\n",
       "      <td>-73.856200</td>\n",
       "      <td>40.759600</td>\n",
       "      <td>-73.604600</td>\n",
       "      <td>41.088200</td>\n",
       "      <td>POINT (-73.85620 40.75960)</td>\n",
       "      <td>Queens</td>\n",
       "      <td>QN27</td>\n",
       "      <td>East Elmhurst</td>\n",
       "    </tr>\n",
       "  </tbody>\n",
       "</table>\n",
       "</div>"
      ],
      "text/plain": [
       "       pickup_datetime     dropoff_datetime  pickup_longitude  \\\n",
       "0  2012-01-19 08:45:06  2012-01-19 08:50:52        -74.010669   \n",
       "1  2012-01-05 00:42:00  2012-01-05 00:46:00        -74.002933   \n",
       "2  2012-01-08 12:12:00  2012-01-08 12:15:00        -73.961967   \n",
       "3  2012-01-04 21:19:13  2012-01-04 21:28:51        -73.987095   \n",
       "4  2012-01-16 15:20:48  2012-01-16 15:56:26        -73.856200   \n",
       "\n",
       "   pickup_latitude  dropoff_longitude  dropoff_latitude  \\\n",
       "0        40.715217         -74.005392         40.711362   \n",
       "1        40.718197         -74.013570         40.705077   \n",
       "2        40.773578         -73.954072         40.778792   \n",
       "3        40.720450         -73.985948         40.743825   \n",
       "4        40.759600         -73.604600         41.088200   \n",
       "\n",
       "                   p_geometry pickup_borough pickup_ntacode  \\\n",
       "0  POINT (-74.01067 40.71522)      Manhattan           MN24   \n",
       "1  POINT (-74.00293 40.71820)      Manhattan           MN24   \n",
       "2  POINT (-73.96197 40.77358)      Manhattan           MN40   \n",
       "3  POINT (-73.98709 40.72045)      Manhattan           MN27   \n",
       "4  POINT (-73.85620 40.75960)         Queens           QN27   \n",
       "\n",
       "                           pickup_ntaname  \n",
       "0  SoHo-TriBeCa-Civic Center-Little Italy  \n",
       "1  SoHo-TriBeCa-Civic Center-Little Italy  \n",
       "2           Upper East Side-Carnegie Hill  \n",
       "3                               Chinatown  \n",
       "4                           East Elmhurst  "
      ]
     },
     "execution_count": 12,
     "metadata": {},
     "output_type": "execute_result"
    }
   ],
   "source": [
    "print(yellow12_nta.shape)\n",
    "yellow12_nta.head()"
   ]
  },
  {
   "cell_type": "code",
   "execution_count": 13,
   "metadata": {},
   "outputs": [],
   "source": [
    "yellow12_nta.to_csv(\"data/yellow12_nta.csv\",index=False)"
   ]
  },
  {
   "cell_type": "code",
   "execution_count": 14,
   "metadata": {},
   "outputs": [],
   "source": [
    "prueba = pd.read_csv(\"data/yellow12_nta.csv\")"
   ]
  },
  {
   "cell_type": "code",
   "execution_count": 15,
   "metadata": {},
   "outputs": [
    {
     "name": "stdout",
     "output_type": "stream",
     "text": [
      "(7800000, 10)\n"
     ]
    },
    {
     "data": {
      "text/html": [
       "<div>\n",
       "<style scoped>\n",
       "    .dataframe tbody tr th:only-of-type {\n",
       "        vertical-align: middle;\n",
       "    }\n",
       "\n",
       "    .dataframe tbody tr th {\n",
       "        vertical-align: top;\n",
       "    }\n",
       "\n",
       "    .dataframe thead th {\n",
       "        text-align: right;\n",
       "    }\n",
       "</style>\n",
       "<table border=\"1\" class=\"dataframe\">\n",
       "  <thead>\n",
       "    <tr style=\"text-align: right;\">\n",
       "      <th></th>\n",
       "      <th>pickup_datetime</th>\n",
       "      <th>dropoff_datetime</th>\n",
       "      <th>pickup_longitude</th>\n",
       "      <th>pickup_latitude</th>\n",
       "      <th>dropoff_longitude</th>\n",
       "      <th>dropoff_latitude</th>\n",
       "      <th>p_geometry</th>\n",
       "      <th>pickup_borough</th>\n",
       "      <th>pickup_ntacode</th>\n",
       "      <th>pickup_ntaname</th>\n",
       "    </tr>\n",
       "  </thead>\n",
       "  <tbody>\n",
       "    <tr>\n",
       "      <th>0</th>\n",
       "      <td>2012-01-19 08:45:06</td>\n",
       "      <td>2012-01-19 08:50:52</td>\n",
       "      <td>-74.010669</td>\n",
       "      <td>40.715217</td>\n",
       "      <td>-74.005392</td>\n",
       "      <td>40.711362</td>\n",
       "      <td>POINT (-74.01066899999998 40.715217)</td>\n",
       "      <td>Manhattan</td>\n",
       "      <td>MN24</td>\n",
       "      <td>SoHo-TriBeCa-Civic Center-Little Italy</td>\n",
       "    </tr>\n",
       "    <tr>\n",
       "      <th>1</th>\n",
       "      <td>2012-01-05 00:42:00</td>\n",
       "      <td>2012-01-05 00:46:00</td>\n",
       "      <td>-74.002933</td>\n",
       "      <td>40.718197</td>\n",
       "      <td>-74.013570</td>\n",
       "      <td>40.705077</td>\n",
       "      <td>POINT (-74.002933 40.718197)</td>\n",
       "      <td>Manhattan</td>\n",
       "      <td>MN24</td>\n",
       "      <td>SoHo-TriBeCa-Civic Center-Little Italy</td>\n",
       "    </tr>\n",
       "    <tr>\n",
       "      <th>2</th>\n",
       "      <td>2012-01-08 12:12:00</td>\n",
       "      <td>2012-01-08 12:15:00</td>\n",
       "      <td>-73.961967</td>\n",
       "      <td>40.773578</td>\n",
       "      <td>-73.954072</td>\n",
       "      <td>40.778792</td>\n",
       "      <td>POINT (-73.961967 40.773578)</td>\n",
       "      <td>Manhattan</td>\n",
       "      <td>MN40</td>\n",
       "      <td>Upper East Side-Carnegie Hill</td>\n",
       "    </tr>\n",
       "    <tr>\n",
       "      <th>3</th>\n",
       "      <td>2012-01-04 21:19:13</td>\n",
       "      <td>2012-01-04 21:28:51</td>\n",
       "      <td>-73.987095</td>\n",
       "      <td>40.720450</td>\n",
       "      <td>-73.985948</td>\n",
       "      <td>40.743825</td>\n",
       "      <td>POINT (-73.98709499999998 40.72045)</td>\n",
       "      <td>Manhattan</td>\n",
       "      <td>MN27</td>\n",
       "      <td>Chinatown</td>\n",
       "    </tr>\n",
       "    <tr>\n",
       "      <th>4</th>\n",
       "      <td>2012-01-16 15:20:48</td>\n",
       "      <td>2012-01-16 15:56:26</td>\n",
       "      <td>-73.856200</td>\n",
       "      <td>40.759600</td>\n",
       "      <td>-73.604600</td>\n",
       "      <td>41.088200</td>\n",
       "      <td>POINT (-73.8562 40.7596)</td>\n",
       "      <td>Queens</td>\n",
       "      <td>QN27</td>\n",
       "      <td>East Elmhurst</td>\n",
       "    </tr>\n",
       "  </tbody>\n",
       "</table>\n",
       "</div>"
      ],
      "text/plain": [
       "       pickup_datetime     dropoff_datetime  pickup_longitude  \\\n",
       "0  2012-01-19 08:45:06  2012-01-19 08:50:52        -74.010669   \n",
       "1  2012-01-05 00:42:00  2012-01-05 00:46:00        -74.002933   \n",
       "2  2012-01-08 12:12:00  2012-01-08 12:15:00        -73.961967   \n",
       "3  2012-01-04 21:19:13  2012-01-04 21:28:51        -73.987095   \n",
       "4  2012-01-16 15:20:48  2012-01-16 15:56:26        -73.856200   \n",
       "\n",
       "   pickup_latitude  dropoff_longitude  dropoff_latitude  \\\n",
       "0        40.715217         -74.005392         40.711362   \n",
       "1        40.718197         -74.013570         40.705077   \n",
       "2        40.773578         -73.954072         40.778792   \n",
       "3        40.720450         -73.985948         40.743825   \n",
       "4        40.759600         -73.604600         41.088200   \n",
       "\n",
       "                             p_geometry pickup_borough pickup_ntacode  \\\n",
       "0  POINT (-74.01066899999998 40.715217)      Manhattan           MN24   \n",
       "1          POINT (-74.002933 40.718197)      Manhattan           MN24   \n",
       "2          POINT (-73.961967 40.773578)      Manhattan           MN40   \n",
       "3   POINT (-73.98709499999998 40.72045)      Manhattan           MN27   \n",
       "4              POINT (-73.8562 40.7596)         Queens           QN27   \n",
       "\n",
       "                           pickup_ntaname  \n",
       "0  SoHo-TriBeCa-Civic Center-Little Italy  \n",
       "1  SoHo-TriBeCa-Civic Center-Little Italy  \n",
       "2           Upper East Side-Carnegie Hill  \n",
       "3                               Chinatown  \n",
       "4                           East Elmhurst  "
      ]
     },
     "execution_count": 15,
     "metadata": {},
     "output_type": "execute_result"
    }
   ],
   "source": [
    "print(prueba.shape)\n",
    "prueba.head()"
   ]
  }
 ],
 "metadata": {
  "kernelspec": {
   "display_name": "Python 3",
   "language": "python",
   "name": "python3"
  },
  "language_info": {
   "codemirror_mode": {
    "name": "ipython",
    "version": 3
   },
   "file_extension": ".py",
   "mimetype": "text/x-python",
   "name": "python",
   "nbconvert_exporter": "python",
   "pygments_lexer": "ipython3",
   "version": "3.7.3"
  }
 },
 "nbformat": 4,
 "nbformat_minor": 2
}
